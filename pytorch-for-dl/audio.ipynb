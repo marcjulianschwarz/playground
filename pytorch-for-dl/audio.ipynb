{
 "cells": [
  {
   "cell_type": "code",
   "execution_count": 2,
   "metadata": {},
   "outputs": [],
   "source": [
    "import torch\n",
    "import torchaudio\n",
    "from torch.utils.data import Dataset, DataLoader\n",
    "\n",
    "from pathlib import Path"
   ]
  },
  {
   "cell_type": "code",
   "execution_count": 7,
   "metadata": {},
   "outputs": [],
   "source": [
    "def get_class_label(file: Path):\n",
    "    return file.name.split(\"-\")[-1].replace(\".wav\", \"\")\n",
    "\n",
    "class ESC50(Dataset):\n",
    "\n",
    "    def __init__(self, path: Path):\n",
    "        files = path.glob('*.wav')\n",
    "        self.items = [(str(f), get_class_label(f)) for f in files]\n",
    "        self.length = len(self.items)\n",
    "\n",
    "    def __getitem__(self, index):\n",
    "        file, label = self.items[index]\n",
    "        data, sr = torchaudio.load(file)\n",
    "        return data, int(label)\n",
    "    \n",
    "    def __len__(self):\n",
    "        return self.length"
   ]
  },
  {
   "cell_type": "code",
   "execution_count": 8,
   "metadata": {},
   "outputs": [],
   "source": [
    "path = Path(\"/Users/marcjulianschwarz/Mac/Code/Data/ESC-50/audio\")"
   ]
  },
  {
   "cell_type": "code",
   "execution_count": 9,
   "metadata": {},
   "outputs": [],
   "source": [
    "data = ESC50(path)\n",
    "tensor, label = list(data)[0]"
   ]
  },
  {
   "cell_type": "code",
   "execution_count": 10,
   "metadata": {},
   "outputs": [],
   "source": [
    "dl = DataLoader(data, batch_size=8, shuffle=True)"
   ]
  },
  {
   "cell_type": "code",
   "execution_count": null,
   "metadata": {},
   "outputs": [],
   "source": []
  }
 ],
 "metadata": {
  "kernelspec": {
   "display_name": ".venv",
   "language": "python",
   "name": "python3"
  },
  "language_info": {
   "codemirror_mode": {
    "name": "ipython",
    "version": 3
   },
   "file_extension": ".py",
   "mimetype": "text/x-python",
   "name": "python",
   "nbconvert_exporter": "python",
   "pygments_lexer": "ipython3",
   "version": "3.10.13"
  }
 },
 "nbformat": 4,
 "nbformat_minor": 2
}
