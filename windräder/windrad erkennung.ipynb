{
 "cells": [
  {
   "cell_type": "code",
   "execution_count": 1,
   "metadata": {},
   "outputs": [],
   "source": [
    "import pandas as pd \n",
    "import numpy as np \n",
    "import requests\n",
    "import random\n",
    "import shutil \n",
    "import os\n",
    "#from fastai.vision.all import *"
   ]
  },
  {
   "cell_type": "code",
   "execution_count": 2,
   "metadata": {},
   "outputs": [],
   "source": [
    "\n",
    "\n",
    "def get_random_coordinates(n=10):\n",
    "    #Get list of random coordinates from Germany\n",
    "    lat_min_max = [47.2701114, 55.099161]\n",
    "    lon_min_max = [5.8663153, 15.0419319]\n",
    "    lat_lon_noWT = pd.DataFrame([(random.uniform(*lat_min_max), random.uniform(*lon_min_max)) for _ in range(n)], columns =[\"lat\", \"lon\"])\n",
    "    return lat_lon_noWT\n",
    "\n",
    "def get_WT_coordinates():\n",
    "    return pd.read_csv(\"data/wind_new.csv\")\n",
    "\n",
    "def get_POWER_coordinates():\n",
    "    return pd.read_csv(\"data/strom_new.csv\")\n"
   ]
  },
  {
   "cell_type": "code",
   "execution_count": 3,
   "metadata": {},
   "outputs": [],
   "source": [
    "def load_images_mapbox(df, prefix, path=\"default\", zoom=14.5, rotation=0, width=256, random_n=None):\n",
    "\n",
    "    if random_n:\n",
    "        df = df.sample(random_n)\n",
    "\n",
    "    height = width\n",
    "\n",
    "    lat_lon = list(df[[\"lat\", \"lon\"]].itertuples(name=None))\n",
    "    token = ''\n",
    "    \n",
    "    # {zoom}_{rotation}_{width}\n",
    "    path = f\"./data/images/{path}\"\n",
    "\n",
    "    os.makedirs(path, exist_ok=True)\n",
    "\n",
    "    for index, lat, lon in lat_lon:\n",
    "        r = requests.get('https://api.mapbox.com/styles/v1/mapbox/satellite-v9/static/'\\\n",
    "                        f'{lon},{lat},{zoom},{rotation}/{width}x{height}@2x'\\\n",
    "                        f'?access_token={token}', stream =True)\n",
    "        print(f\"{index}: (lat, lon):{lat}, {lon}\")\n",
    "            \n",
    "        with open(f'{path}/{prefix}_{index}.png', 'wb') as f:\n",
    "            r.raw.decode_content = True\n",
    "            shutil.copyfileobj(r.raw, f)\n",
    "\n",
    "def load_images_google(df, prefix, width=256, path=\"default\", random_n=None):\n",
    "\n",
    "    if random_n:\n",
    "        df = df.sample(random_n)\n",
    "\n",
    "    height = width\n",
    "\n",
    "    # {zoom}_{rotation}_{width}\n",
    "    path = f\"./data/images/{path}\"\n",
    "\n",
    "    os.makedirs(path, exist_ok=True)\n",
    "\n",
    "    key = \"\"\n",
    "    lat_lon = list(df[[\"lat\", \"lon\"]].itertuples(name=None))\n",
    "\n",
    "    for index, lat, lon in lat_lon:\n",
    "        print(f\"{index}: (lat, lon):{lat}, {lon}\")\n",
    "        r = requests.get(\"https://maps.googleapis.com/maps/api/staticmap?\"\\\n",
    "                    f\"center={lat},{lon}&zoom=18&size={width}x{height}&maptype=satellite&key={key}\", stream =True)\n",
    "        with open(f'{path}/{prefix}_{index}_google.png', 'wb') as f:\n",
    "            r.raw.decode_content = True\n",
    "            shutil.copyfileobj(r.raw, f)"
   ]
  },
  {
   "cell_type": "code",
   "execution_count": 4,
   "metadata": {},
   "outputs": [],
   "source": [
    "def load_training_images():\n",
    "    wind = get_WT_coordinates()\n",
    "    power = get_POWER_coordinates()\n",
    "    random = get_random_coordinates(n=155)\n",
    "\n",
    "    load_images_mapbox(wind, prefix=\"WT\", path=\"train\")\n",
    "    load_images_mapbox(power, prefix=\"NWT\", path=\"train\")\n",
    "    load_images_mapbox(random, prefix=\"NWT\", path=\"train\")"
   ]
  },
  {
   "cell_type": "code",
   "execution_count": null,
   "metadata": {},
   "outputs": [],
   "source": []
  }
 ],
 "metadata": {
  "interpreter": {
   "hash": "40d3a090f54c6569ab1632332b64b2c03c39dcf918b08424e98f38b5ae0af88f"
  },
  "kernelspec": {
   "display_name": "Python 3.9.7 ('base')",
   "language": "python",
   "name": "python3"
  },
  "language_info": {
   "codemirror_mode": {
    "name": "ipython",
    "version": 3
   },
   "file_extension": ".py",
   "mimetype": "text/x-python",
   "name": "python",
   "nbconvert_exporter": "python",
   "pygments_lexer": "ipython3",
   "version": "3.9.7"
  },
  "orig_nbformat": 4
 },
 "nbformat": 4,
 "nbformat_minor": 2
}
