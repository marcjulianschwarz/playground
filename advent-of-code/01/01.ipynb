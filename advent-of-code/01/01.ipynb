{
 "cells": [
  {
   "cell_type": "code",
   "execution_count": 4,
   "metadata": {},
   "outputs": [],
   "source": [
    "from pathlib import Path\n",
    "\n",
    "data = Path(\"data.txt\").read_text().splitlines()\n",
    "test = Path(\"test.txt\").read_text().splitlines()\n",
    "\n",
    "possible_digits = [\n",
    "    \"one\",\n",
    "    \"two\",\n",
    "    \"three\",\n",
    "    \"four\",\n",
    "    \"five\",\n",
    "    \"six\",\n",
    "    \"seven\",\n",
    "    \"eight\",\n",
    "    \"nine\",\n",
    "]\n",
    "string_to_digit = {possible_digits[i]: i + 1 for i in range(len(possible_digits))}\n",
    "\n",
    "\n",
    "def to_int(s):\n",
    "    if type(s) == str:\n",
    "        return str(string_to_digit[s])\n",
    "    else:\n",
    "        return s\n",
    "\n",
    "\n",
    "def get_digits(s: str):\n",
    "    indecies = []\n",
    "    numbers = []\n",
    "\n",
    "    for i, ss in enumerate(s):\n",
    "        if ss.isdigit():\n",
    "            indecies.append(i)\n",
    "            numbers.append(ss)\n",
    "\n",
    "    for digit in possible_digits:\n",
    "        # find lowest index\n",
    "        index = s.find(digit)\n",
    "        if index != -1:\n",
    "            indecies.append(index)\n",
    "            numbers.append(digit)\n",
    "        # find highest index\n",
    "        index = s.rfind(digit)\n",
    "        if index != -1:\n",
    "            indecies.append(index)\n",
    "            numbers.append(digit)\n",
    "\n",
    "    # sort numbers by indecies\n",
    "    numbers = [x for i, x in sorted(zip(indecies, numbers))]\n",
    "    return numbers"
   ]
  },
  {
   "cell_type": "code",
   "execution_count": 5,
   "metadata": {},
   "outputs": [],
   "source": [
    "def get_number(d):\n",
    "    digits = get_digits(d)\n",
    "    first = str(digits[0]) if digits[0].isdigit() else str(string_to_digit[digits[0]])\n",
    "    last = str(digits[-1]) if digits[-1].isdigit() else str(string_to_digit[digits[-1]])\n",
    "    number = first + last\n",
    "    number = int(number)\n",
    "    return number"
   ]
  },
  {
   "cell_type": "code",
   "execution_count": 6,
   "metadata": {},
   "outputs": [
    {
     "data": {
      "text/plain": [
       "54473"
      ]
     },
     "execution_count": 6,
     "metadata": {},
     "output_type": "execute_result"
    }
   ],
   "source": [
    "sum([get_number(i) for i in data])"
   ]
  }
 ],
 "metadata": {
  "kernelspec": {
   "display_name": "experimental",
   "language": "python",
   "name": "python3"
  },
  "language_info": {
   "codemirror_mode": {
    "name": "ipython",
    "version": 3
   },
   "file_extension": ".py",
   "mimetype": "text/x-python",
   "name": "python",
   "nbconvert_exporter": "python",
   "pygments_lexer": "ipython3",
   "version": "3.10.4"
  }
 },
 "nbformat": 4,
 "nbformat_minor": 2
}
