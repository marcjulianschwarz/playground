{
 "cells": [
  {
   "cell_type": "code",
   "execution_count": 19,
   "metadata": {},
   "outputs": [],
   "source": [
    "from pathlib import Path\n",
    "import re\n",
    "\n",
    "data = Path('data.txt').read_text()\n",
    "test = Path('test.txt').read_text()\n",
    "games = data.splitlines()\n",
    "test_games = test.splitlines()"
   ]
  },
  {
   "cell_type": "code",
   "execution_count": 28,
   "metadata": {},
   "outputs": [],
   "source": [
    "game = games[0]\n",
    "cond = {\n",
    "    \"red\": 12,\n",
    "    \"green\": 13,\n",
    "    \"blue\": 14,\n",
    "}"
   ]
  },
  {
   "cell_type": "code",
   "execution_count": 41,
   "metadata": {},
   "outputs": [
    {
     "name": "stdout",
     "output_type": "stream",
     "text": [
      "2505\n",
      "70265\n"
     ]
    }
   ],
   "source": [
    "id_sum = 0\n",
    "total_power = 0\n",
    "for i, game in enumerate(games):\n",
    "    moves = re.sub(r\"Game \\d+: \", \"\", game).split(\"; \")\n",
    "    moves_possible = True\n",
    "    max_colors = {\"red\": 0, \"green\": 0, \"blue\": 0}\n",
    "    for move in moves:\n",
    "        colors = move.split(\", \")\n",
    "        colors_possible = True\n",
    "        for color in colors:\n",
    "            parts = color.split(\" \")\n",
    "            number = int(parts[0])\n",
    "            col = parts[1]\n",
    "            if number > max_colors[col]:\n",
    "                max_colors[col] = number\n",
    "            if number > cond[col]:\n",
    "                colors_possible = False\n",
    "                \n",
    "        if not colors_possible:\n",
    "            moves_possible = False\n",
    "            \n",
    "    if moves_possible:\n",
    "        id_sum += i+1\n",
    "\n",
    "    power = max_colors[\"red\"] * max_colors[\"green\"] * max_colors[\"blue\"]\n",
    "    total_power += power\n",
    "    \n",
    "print(id_sum)\n",
    "print(total_power)"
   ]
  },
  {
   "cell_type": "code",
   "execution_count": null,
   "metadata": {},
   "outputs": [],
   "source": []
  }
 ],
 "metadata": {
  "kernelspec": {
   "display_name": "experimental",
   "language": "python",
   "name": "python3"
  },
  "language_info": {
   "codemirror_mode": {
    "name": "ipython",
    "version": 3
   },
   "file_extension": ".py",
   "mimetype": "text/x-python",
   "name": "python",
   "nbconvert_exporter": "python",
   "pygments_lexer": "ipython3",
   "version": "3.10.4"
  }
 },
 "nbformat": 4,
 "nbformat_minor": 2
}
