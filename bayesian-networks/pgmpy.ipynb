{
 "cells": [
  {
   "cell_type": "markdown",
   "source": [],
   "metadata": {
    "collapsed": false
   },
   "id": "499eb1400f6933da"
  },
  {
   "cell_type": "code",
   "execution_count": 61,
   "id": "initial_id",
   "metadata": {
    "collapsed": true,
    "ExecuteTime": {
     "end_time": "2023-09-26T15:56:49.917739Z",
     "start_time": "2023-09-26T15:56:49.911461Z"
    }
   },
   "outputs": [],
   "source": [
    "from pgmpy.models import BayesianNetwork\n",
    "from pgmpy.inference import VariableElimination\n",
    "# Defining the parameters using CPT\n",
    "from pgmpy.factors.discrete import TabularCPD"
   ]
  },
  {
   "cell_type": "code",
   "execution_count": 88,
   "outputs": [],
   "source": [
    "alarm_model = BayesianNetwork(\n",
    "    [\n",
    "        (\"Burglary\", \"Alarm\"),\n",
    "        (\"Earthquake\", \"Alarm\"),\n",
    "        (\"Alarm\", \"JohnCalls\"),\n",
    "        (\"Alarm\", \"MaryCalls\"),\n",
    "    ]\n",
    ")\n",
    "\n",
    "cpd_burglary = TabularCPD(\n",
    "    variable=\"Burglary\", variable_card=2, values=[[0.999], [0.001]]\n",
    ")\n",
    "cpd_earthquake = TabularCPD(\n",
    "    variable=\"Earthquake\", variable_card=2, values=[[0.998], [0.002]]\n",
    ")\n",
    "cpd_alarm = TabularCPD(\n",
    "    variable=\"Alarm\",\n",
    "    variable_card=2,\n",
    "    values=[[0.999, 0.71, 0.06, 0.05], [0.001, 0.29, 0.94, 0.95]],\n",
    "    evidence=[\"Burglary\", \"Earthquake\"],\n",
    "    evidence_card=[2, 2],\n",
    ")\n",
    "cpd_johncalls = TabularCPD(\n",
    "    variable=\"JohnCalls\",\n",
    "    variable_card=2,\n",
    "    values=[[0.95, 0.1], [0.05, 0.9]],\n",
    "    evidence=[\"Alarm\"],\n",
    "    evidence_card=[2],\n",
    ")\n",
    "cpd_marycalls = TabularCPD(\n",
    "    variable=\"MaryCalls\",\n",
    "    variable_card=2,\n",
    "    values=[[0.99, 0.3], [0.01, 0.7]],\n",
    "    evidence=[\"Alarm\"],\n",
    "    evidence_card=[2],\n",
    ")\n",
    "\n",
    "# Associating the parameters with the model structure\n",
    "alarm_model.add_cpds(\n",
    "    cpd_burglary, cpd_earthquake, cpd_alarm, cpd_johncalls, cpd_marycalls\n",
    ")"
   ],
   "metadata": {
    "collapsed": false,
    "ExecuteTime": {
     "end_time": "2023-09-26T16:00:05.392476Z",
     "start_time": "2023-09-26T16:00:05.389279Z"
    }
   },
   "id": "f938c63fe0d769bd"
  },
  {
   "cell_type": "code",
   "execution_count": 89,
   "outputs": [
    {
     "data": {
      "text/plain": "True"
     },
     "execution_count": 89,
     "metadata": {},
     "output_type": "execute_result"
    }
   ],
   "source": [
    "alarm_model.check_model()"
   ],
   "metadata": {
    "collapsed": false,
    "ExecuteTime": {
     "end_time": "2023-09-26T16:00:05.668535Z",
     "start_time": "2023-09-26T16:00:05.663946Z"
    }
   },
   "id": "bf014820a87b7578"
  },
  {
   "cell_type": "code",
   "execution_count": 90,
   "outputs": [
    {
     "data": {
      "text/plain": "(Burglary ⟂ Earthquake)\n(Burglary ⟂ MaryCalls, JohnCalls | Alarm)\n(Burglary ⟂ JohnCalls | Alarm, MaryCalls)\n(Burglary ⟂ MaryCalls | Alarm, JohnCalls)\n(Burglary ⟂ MaryCalls, JohnCalls | Alarm, Earthquake)\n(Burglary ⟂ JohnCalls | Alarm, MaryCalls, Earthquake)\n(Burglary ⟂ MaryCalls | Alarm, JohnCalls, Earthquake)\n(MaryCalls ⟂ JohnCalls, Earthquake, Burglary | Alarm)\n(MaryCalls ⟂ Earthquake, Burglary | Alarm, JohnCalls)\n(MaryCalls ⟂ JohnCalls, Burglary | Alarm, Earthquake)\n(MaryCalls ⟂ JohnCalls, Earthquake | Alarm, Burglary)\n(MaryCalls ⟂ Burglary | Alarm, JohnCalls, Earthquake)\n(MaryCalls ⟂ Earthquake | Alarm, JohnCalls, Burglary)\n(MaryCalls ⟂ JohnCalls | Alarm, Earthquake, Burglary)\n(JohnCalls ⟂ MaryCalls, Earthquake, Burglary | Alarm)\n(JohnCalls ⟂ Earthquake, Burglary | Alarm, MaryCalls)\n(JohnCalls ⟂ MaryCalls, Burglary | Alarm, Earthquake)\n(JohnCalls ⟂ MaryCalls, Earthquake | Alarm, Burglary)\n(JohnCalls ⟂ Burglary | Alarm, MaryCalls, Earthquake)\n(JohnCalls ⟂ Earthquake | Alarm, MaryCalls, Burglary)\n(JohnCalls ⟂ MaryCalls | Alarm, Earthquake, Burglary)\n(Earthquake ⟂ Burglary)\n(Earthquake ⟂ MaryCalls, JohnCalls | Alarm)\n(Earthquake ⟂ JohnCalls | Alarm, MaryCalls)\n(Earthquake ⟂ MaryCalls | Alarm, JohnCalls)\n(Earthquake ⟂ MaryCalls, JohnCalls | Alarm, Burglary)\n(Earthquake ⟂ JohnCalls | Alarm, MaryCalls, Burglary)\n(Earthquake ⟂ MaryCalls | Alarm, JohnCalls, Burglary)"
     },
     "execution_count": 90,
     "metadata": {},
     "output_type": "execute_result"
    }
   ],
   "source": [
    "alarm_model.get_independencies()"
   ],
   "metadata": {
    "collapsed": false,
    "ExecuteTime": {
     "end_time": "2023-09-26T16:00:05.865151Z",
     "start_time": "2023-09-26T16:00:05.861576Z"
    }
   },
   "id": "e5e23b08ee6e8c5d"
  },
  {
   "cell_type": "code",
   "execution_count": 117,
   "outputs": [
    {
     "name": "stdout",
     "output_type": "stream",
     "text": [
      "+--------------+--------------+----------------------------+\n",
      "| JohnCalls    | MaryCalls    |   phi(JohnCalls,MaryCalls) |\n",
      "+==============+==============+============================+\n",
      "| JohnCalls(0) | MaryCalls(0) |                     0.9405 |\n",
      "+--------------+--------------+----------------------------+\n",
      "| JohnCalls(0) | MaryCalls(1) |                     0.0095 |\n",
      "+--------------+--------------+----------------------------+\n",
      "| JohnCalls(1) | MaryCalls(0) |                     0.0495 |\n",
      "+--------------+--------------+----------------------------+\n",
      "| JohnCalls(1) | MaryCalls(1) |                     0.0005 |\n",
      "+--------------+--------------+----------------------------+\n"
     ]
    }
   ],
   "source": [
    "infer = VariableElimination(alarm_model)\n",
    "q = infer.query(variables=[\"JohnCalls\", \"MaryCalls\"], evidence={\"Alarm\": 0, \"Burglary\": 0, \"Earthquake\": 0})\n",
    "print(q)"
   ],
   "metadata": {
    "collapsed": false,
    "ExecuteTime": {
     "end_time": "2023-09-26T16:08:48.788926Z",
     "start_time": "2023-09-26T16:08:48.782004Z"
    }
   },
   "id": "8ad53e3e6677e357"
  },
  {
   "cell_type": "code",
   "execution_count": 119,
   "outputs": [],
   "source": [
    "infer = VariableElimination(alarm_model)\n",
    "m = infer.query(variables=[\"MaryCalls\"], evidence={\"Alarm\": 0})\n",
    "j = infer.query(variables=[\"JohnCalls\"], evidence={\"Alarm\": 0})\n",
    "a = infer.query(variables=[\"Alarm\"], evidence={\"Burglary\": 0, \"Earthquake\": 0})\n",
    "b = infer.query(variables=[\"Burglary\"])\n",
    "e = infer.query(variables=[\"Earthquake\"])"
   ],
   "metadata": {
    "collapsed": false,
    "ExecuteTime": {
     "end_time": "2023-09-26T16:09:00.102166Z",
     "start_time": "2023-09-26T16:09:00.097487Z"
    }
   },
   "id": "db50cfb7165d1640"
  },
  {
   "cell_type": "code",
   "execution_count": 120,
   "outputs": [
    {
     "name": "stdout",
     "output_type": "stream",
     "text": [
      "+--------------+------------------+\n",
      "| MaryCalls    |   phi(MaryCalls) |\n",
      "+==============+==================+\n",
      "| MaryCalls(0) |           0.9900 |\n",
      "+--------------+------------------+\n",
      "| MaryCalls(1) |           0.0100 |\n",
      "+--------------+------------------+ +--------------+------------------+\n",
      "| JohnCalls    |   phi(JohnCalls) |\n",
      "+==============+==================+\n",
      "| JohnCalls(0) |           0.9500 |\n",
      "+--------------+------------------+\n",
      "| JohnCalls(1) |           0.0500 |\n",
      "+--------------+------------------+ +----------+--------------+\n",
      "| Alarm    |   phi(Alarm) |\n",
      "+==========+==============+\n",
      "| Alarm(0) |       0.9990 |\n",
      "+----------+--------------+\n",
      "| Alarm(1) |       0.0010 |\n",
      "+----------+--------------+\n"
     ]
    }
   ],
   "source": [
    "print(m, j, a)"
   ],
   "metadata": {
    "collapsed": false,
    "ExecuteTime": {
     "end_time": "2023-09-26T16:09:00.494756Z",
     "start_time": "2023-09-26T16:09:00.489721Z"
    }
   },
   "id": "c098a1421910b79b"
  },
  {
   "cell_type": "code",
   "execution_count": 112,
   "outputs": [
    {
     "name": "stdout",
     "output_type": "stream",
     "text": [
      "+-------------+-----------------+\n",
      "| Burglary    |   phi(Burglary) |\n",
      "+=============+=================+\n",
      "| Burglary(0) |          0.9990 |\n",
      "+-------------+-----------------+\n",
      "| Burglary(1) |          0.0010 |\n",
      "+-------------+-----------------+ +---------------+-------------------+\n",
      "| Earthquake    |   phi(Earthquake) |\n",
      "+===============+===================+\n",
      "| Earthquake(0) |            0.9980 |\n",
      "+---------------+-------------------+\n",
      "| Earthquake(1) |            0.0020 |\n",
      "+---------------+-------------------+\n"
     ]
    }
   ],
   "source": [
    "print(b, e)"
   ],
   "metadata": {
    "collapsed": false,
    "ExecuteTime": {
     "end_time": "2023-09-26T16:03:21.529129Z",
     "start_time": "2023-09-26T16:03:21.525064Z"
    }
   },
   "id": "e7f4649e67c0aecf"
  },
  {
   "cell_type": "code",
   "execution_count": null,
   "outputs": [],
   "source": [],
   "metadata": {
    "collapsed": false
   },
   "id": "1829aff3ffe6c277"
  }
 ],
 "metadata": {
  "kernelspec": {
   "display_name": "Python 3",
   "language": "python",
   "name": "python3"
  },
  "language_info": {
   "codemirror_mode": {
    "name": "ipython",
    "version": 2
   },
   "file_extension": ".py",
   "mimetype": "text/x-python",
   "name": "python",
   "nbconvert_exporter": "python",
   "pygments_lexer": "ipython2",
   "version": "2.7.6"
  }
 },
 "nbformat": 4,
 "nbformat_minor": 5
}
